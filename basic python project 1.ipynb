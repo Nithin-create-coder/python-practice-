{
 "cells": [
  {
   "cell_type": "code",
   "execution_count": null,
   "id": "806b616f-1834-49cd-b21d-5126e800745a",
   "metadata": {},
   "outputs": [],
   "source": [
    "2. Conditional Statements\n",
    "1. Write a program to check if a number is positive, negative, or zero.\n",
    "2. Check if a number is even or odd.\n",
    "3. Find the largest among three numbers.\n",
    "4. Check if a year is a leap year.\n",
    "5. Write a simple calculator using if-elif-else (add, subtract, multiply, divide)."
   ]
  },
  {
   "cell_type": "code",
   "execution_count": 8,
   "id": "c2c687c1-2ab2-450c-86ec-9d8502e62ce1",
   "metadata": {},
   "outputs": [
    {
     "name": "stdin",
     "output_type": "stream",
     "text": [
      "enter the number -1\n"
     ]
    },
    {
     "name": "stdout",
     "output_type": "stream",
     "text": [
      "your enter number is negative\n"
     ]
    }
   ],
   "source": [
    "# 1.writeb a program to check if a number is positive negative or zero \n",
    "x= int(input(\"enter the number\"))\n",
    "if x==0:\n",
    "    print(\"your enter nukber is zero\")\n",
    "elif x>0:\n",
    "    print(\"you enter number is positive\")\n",
    "else:\n",
    "    print(\"your enter number is negative\")\n",
    "    \n"
   ]
  },
  {
   "cell_type": "code",
   "execution_count": 16,
   "id": "2f221422-df23-4c29-98c0-77a7024edc7f",
   "metadata": {},
   "outputs": [
    {
     "name": "stdin",
     "output_type": "stream",
     "text": [
      "enter the number 3\n"
     ]
    },
    {
     "name": "stdout",
     "output_type": "stream",
     "text": [
      "it is odd number\n"
     ]
    }
   ],
   "source": [
    "# 2 check if a number is even or odd\n",
    "x=int(input(\"enter the number\"))\n",
    "if x%2==0:\n",
    "    print(\" it even number\")\n",
    "else:\n",
    "    print(\"it is odd number\")\n",
    "    \n"
   ]
  },
  {
   "cell_type": "code",
   "execution_count": 18,
   "id": "4d1dd142-3d4e-4496-abd4-3df65644b289",
   "metadata": {},
   "outputs": [
    {
     "name": "stdout",
     "output_type": "stream",
     "text": [
      "z is big \n"
     ]
    }
   ],
   "source": [
    "# 3. find the largest among three number \n",
    "x,y,z=2,3,6\n",
    "if x>y and x>z:\n",
    "    print(\"x is big\")\n",
    "elif y>x and y>z:\n",
    "    print(\"y is big \")\n",
    "else:\n",
    "    print(\"z is big \")\n",
    "    "
   ]
  },
  {
   "cell_type": "code",
   "execution_count": 22,
   "id": "8c350681-986f-4cf8-aa7f-ffe47ab32727",
   "metadata": {},
   "outputs": [
    {
     "name": "stdin",
     "output_type": "stream",
     "text": [
      "enter the number 2\n",
      "enter the number  4\n",
      "enter the operator like + - / * ^  +\n"
     ]
    },
    {
     "name": "stdout",
     "output_type": "stream",
     "text": [
      "6.0\n"
     ]
    }
   ],
   "source": [
    "#5.Write a simple calculator using if-elif-else (add, subtract, multiply, divide).\n",
    "x=float(input(\"enter the number\"))\n",
    "y=float(input(\"enter the number \"))\n",
    "t=input(\"enter the operator like + - / * ^ \")\n",
    "if t=='+':\n",
    "    r=x+y\n",
    "    print(r)\n",
    "elif t=='-':\n",
    "    r=x-y\n",
    "    print(r)\n",
    "elif t=='/':\n",
    "    r=x/y\n",
    "    print(r)\n",
    "else:\n",
    "    r=x*y\n",
    "    print(r)"
   ]
  },
  {
   "cell_type": "code",
   "execution_count": null,
   "id": "a1748366-a89a-4587-ba4f-de6e12125eff",
   "metadata": {},
   "outputs": [],
   "source": [
    "#Check if a year is a leap year. \n",
    "# Check if a year is a leap year\n",
    "\n",
    "year = int(input(\"Enter a year: \"))\n",
    "\n",
    "if (year % 4 == 0):\n",
    "    if (year % 100 == 0):\n",
    "        if (year % 400 == 0):\n",
    "            print(year, \"is a leap year.\")\n",
    "        else:\n",
    "            print(year, \"is not a leap year.\")\n",
    "    else:\n",
    "        print(year, \"is a leap year.\")\n",
    "else:\n",
    "    print(year, \"is not a leap year.\")\n"
   ]
  },
  {
   "cell_type": "code",
   "execution_count": 26,
   "id": "d0d2e395-2f2f-48d3-8a2e-4e4395d494c3",
   "metadata": {},
   "outputs": [
    {
     "name": "stdin",
     "output_type": "stream",
     "text": [
      "enter the year: 2001\n"
     ]
    },
    {
     "name": "stdout",
     "output_type": "stream",
     "text": [
      "not is a leap year\n"
     ]
    }
   ],
   "source": [
    "year = int(input(\"enter the year:\"))\n",
    "if ( year % 4 == 0):\n",
    "    if  year % 100 ==0:\n",
    "       if year % 400 ==0:\n",
    "           print(year , \" is a leap year\")\n",
    "       else:\n",
    "           print(\"is not a leap year\")\n",
    "    else:\n",
    "        print(\" is a leap year\")\n",
    "else:\n",
    "    print(\"not is a leap year\")\n",
    "    \n",
    "        "
   ]
  },
  {
   "cell_type": "code",
   "execution_count": null,
   "id": "6596a4e2-0d8f-40ba-a348-2fb501d94b44",
   "metadata": {},
   "outputs": [],
   "source": [
    "Loops\n",
    "1. Print numbers from 1 to 100 using a loop.\n",
    "2. Print the multiplication table of a given number.\n",
    "3. Find the sum of all numbers from 1 to n.\n",
    "4. Count the number of digits in a number.\n",
    "5. Calculate the factorial of a number.\n",
    "6. Reverse a number (e.g., 1234 to 4321).\n",
    "7. Check if a number is a palindrome.\n",
    "8. Print Fibonacci series up to n terms.\n",
    "9. Print all prime numbers between 1 and 100.\n",
    "10. Check if a number is an Armstrong number."
   ]
  },
  {
   "cell_type": "code",
   "execution_count": 32,
   "id": "43b1d1e6-c361-4bb0-b52a-f64741b203b1",
   "metadata": {},
   "outputs": [
    {
     "name": "stdin",
     "output_type": "stream",
     "text": [
      "enter the number 100 only 100\n"
     ]
    },
    {
     "name": "stdout",
     "output_type": "stream",
     "text": [
      "0\n",
      "1\n",
      "2\n",
      "3\n",
      "4\n",
      "5\n",
      "6\n",
      "7\n",
      "8\n",
      "9\n",
      "10\n",
      "11\n",
      "12\n",
      "13\n",
      "14\n",
      "15\n",
      "16\n",
      "17\n",
      "18\n",
      "19\n",
      "20\n",
      "21\n",
      "22\n",
      "23\n",
      "24\n",
      "25\n",
      "26\n",
      "27\n",
      "28\n",
      "29\n",
      "30\n",
      "31\n",
      "32\n",
      "33\n",
      "34\n",
      "35\n",
      "36\n",
      "37\n",
      "38\n",
      "39\n",
      "40\n",
      "41\n",
      "42\n",
      "43\n",
      "44\n",
      "45\n",
      "46\n",
      "47\n",
      "48\n",
      "49\n",
      "50\n",
      "51\n",
      "52\n",
      "53\n",
      "54\n",
      "55\n",
      "56\n",
      "57\n",
      "58\n",
      "59\n",
      "60\n",
      "61\n",
      "62\n",
      "63\n",
      "64\n",
      "65\n",
      "66\n",
      "67\n",
      "68\n",
      "69\n",
      "70\n",
      "71\n",
      "72\n",
      "73\n",
      "74\n",
      "75\n",
      "76\n",
      "77\n",
      "78\n",
      "79\n",
      "80\n",
      "81\n",
      "82\n",
      "83\n",
      "84\n",
      "85\n",
      "86\n",
      "87\n",
      "88\n",
      "89\n",
      "90\n",
      "91\n",
      "92\n",
      "93\n",
      "94\n",
      "95\n",
      "96\n",
      "97\n",
      "98\n",
      "99\n",
      "100\n"
     ]
    }
   ],
   "source": [
    "#1. print number from 1 to 100 using a loop \n",
    "x= int(input(\"enter the number 100 only\"))\n",
    "for i in range(x+1):\n",
    "    print(i)\n",
    "    "
   ]
  },
  {
   "cell_type": "code",
   "execution_count": 34,
   "id": "5379f425-d449-49f6-a627-48485bf4a171",
   "metadata": {},
   "outputs": [
    {
     "name": "stdin",
     "output_type": "stream",
     "text": [
      "enter the number  20\n",
      "enter the number for multiplivcation table  5\n"
     ]
    },
    {
     "name": "stdout",
     "output_type": "stream",
     "text": [
      " 5 x 0 = 0\n",
      " 5 x 1 = 5\n",
      " 5 x 2 = 10\n",
      " 5 x 3 = 15\n",
      " 5 x 4 = 20\n",
      " 5 x 5 = 25\n",
      " 5 x 6 = 30\n",
      " 5 x 7 = 35\n",
      " 5 x 8 = 40\n",
      " 5 x 9 = 45\n",
      " 5 x 10 = 50\n",
      " 5 x 11 = 55\n",
      " 5 x 12 = 60\n",
      " 5 x 13 = 65\n",
      " 5 x 14 = 70\n",
      " 5 x 15 = 75\n",
      " 5 x 16 = 80\n",
      " 5 x 17 = 85\n",
      " 5 x 18 = 90\n",
      " 5 x 19 = 95\n"
     ]
    }
   ],
   "source": [
    "#2. Print the multiplication table of a given number.\n",
    "x= int(input(\"enter the number \"))\n",
    "y=int(input(\"enter the number for multiplivcation table \"))\n",
    "for i in range(x+1):\n",
    "    print(f' {y} x {i} = {y*i}')\n"
   ]
  },
  {
   "cell_type": "code",
   "execution_count": null,
   "id": "d47da2da-0ab8-4ab7-a5ab-fb06730b23d4",
   "metadata": {},
   "outputs": [],
   "source": [
    "#Find the sum of all numbers from 1 to n.\n",
    "x=int(input(\"enter the number \"))\n",
    "for i in range(1,x+1):\n",
    "    "
   ]
  },
  {
   "cell_type": "code",
   "execution_count": 36,
   "id": "9788d609-78d1-4bdf-88cf-095878104b0d",
   "metadata": {},
   "outputs": [
    {
     "name": "stdin",
     "output_type": "stream",
     "text": [
      "enter the number  23456\n"
     ]
    },
    {
     "ename": "AttributeError",
     "evalue": "'int' object has no attribute 'split'",
     "output_type": "error",
     "traceback": [
      "\u001b[1;31m---------------------------------------------------------------------------\u001b[0m",
      "\u001b[1;31mAttributeError\u001b[0m                            Traceback (most recent call last)",
      "Cell \u001b[1;32mIn[36], line 3\u001b[0m\n\u001b[0;32m      1\u001b[0m \u001b[38;5;66;03m#4. Count the number of digits in a number.\u001b[39;00m\n\u001b[0;32m      2\u001b[0m x\u001b[38;5;241m=\u001b[39m\u001b[38;5;28mint\u001b[39m(\u001b[38;5;28minput\u001b[39m(\u001b[38;5;124m\"\u001b[39m\u001b[38;5;124menter the number \u001b[39m\u001b[38;5;124m\"\u001b[39m))\n\u001b[1;32m----> 3\u001b[0m x\u001b[38;5;241m.\u001b[39msplit()\n\u001b[0;32m      4\u001b[0m \u001b[38;5;28mprint\u001b[39m(x)\n",
      "\u001b[1;31mAttributeError\u001b[0m: 'int' object has no attribute 'split'"
     ]
    }
   ],
   "source": [
    "#4. Count the number of digits in a number.\n",
    "x=int(input(\"enter the number \"))\n",
    "x.split()\n",
    "print(x)\n"
   ]
  },
  {
   "cell_type": "code",
   "execution_count": null,
   "id": "df7b449e-0637-40f3-a976-854dee4337eb",
   "metadata": {},
   "outputs": [],
   "source": []
  },
  {
   "cell_type": "code",
   "execution_count": null,
   "id": "6e6d5223-46d8-4491-9d2d-4027224305e0",
   "metadata": {},
   "outputs": [],
   "source": []
  },
  {
   "cell_type": "code",
   "execution_count": null,
   "id": "84957030-7bbf-4a5c-8bf0-e9c417ef60b1",
   "metadata": {},
   "outputs": [],
   "source": []
  },
  {
   "cell_type": "code",
   "execution_count": null,
   "id": "4f00567b-6aac-4aba-a4bf-2da8d6508004",
   "metadata": {},
   "outputs": [],
   "source": []
  },
  {
   "cell_type": "code",
   "execution_count": null,
   "id": "48269c6a-7dd4-4fb5-8450-41711735cf38",
   "metadata": {},
   "outputs": [],
   "source": []
  },
  {
   "cell_type": "code",
   "execution_count": null,
   "id": "68797106-632a-4e02-8c83-e95a52d001a9",
   "metadata": {},
   "outputs": [],
   "source": []
  }
 ],
 "metadata": {
  "kernelspec": {
   "display_name": "Python [conda env:base] *",
   "language": "python",
   "name": "conda-base-py"
  },
  "language_info": {
   "codemirror_mode": {
    "name": "ipython",
    "version": 3
   },
   "file_extension": ".py",
   "mimetype": "text/x-python",
   "name": "python",
   "nbconvert_exporter": "python",
   "pygments_lexer": "ipython3",
   "version": "3.12.7"
  }
 },
 "nbformat": 4,
 "nbformat_minor": 5
}
