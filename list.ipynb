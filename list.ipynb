{
 "cells": [
  {
   "cell_type": "code",
   "execution_count": 14,
   "id": "4cd23c97-24e6-4fce-9dbd-8f9f709bde30",
   "metadata": {},
   "outputs": [
    {
     "name": "stdin",
     "output_type": "stream",
     "text": [
      "enter the number  34\n"
     ]
    },
    {
     "ename": "TypeError",
     "evalue": "'>' not supported between instances of 'str' and 'int'",
     "output_type": "error",
     "traceback": [
      "\u001b[1;31m---------------------------------------------------------------------------\u001b[0m",
      "\u001b[1;31mTypeError\u001b[0m                                 Traceback (most recent call last)",
      "Cell \u001b[1;32mIn[14], line 4\u001b[0m\n\u001b[0;32m      2\u001b[0m \u001b[38;5;28;01mif\u001b[39;00m a \u001b[38;5;241m==\u001b[39m \u001b[38;5;241m0\u001b[39m:\n\u001b[0;32m      3\u001b[0m     \u001b[38;5;28mprint\u001b[39m(\u001b[38;5;124m\"\u001b[39m\u001b[38;5;124myour enter number is zero\u001b[39m\u001b[38;5;124m\"\u001b[39m)\n\u001b[1;32m----> 4\u001b[0m \u001b[38;5;28;01melif\u001b[39;00m a \u001b[38;5;241m>\u001b[39m\u001b[38;5;241m0\u001b[39m:\n\u001b[0;32m      5\u001b[0m     \u001b[38;5;28mprint\u001b[39m(\u001b[38;5;124m\"\u001b[39m\u001b[38;5;124menter number is positive\u001b[39m\u001b[38;5;124m\"\u001b[39m)\n\u001b[0;32m      6\u001b[0m \u001b[38;5;28;01melse\u001b[39;00m:\n",
      "\u001b[1;31mTypeError\u001b[0m: '>' not supported between instances of 'str' and 'int'"
     ]
    }
   ],
   "source": [
    "a=input(\"enter the number \")\n",
    "if a == 0:\n",
    "    print(\"your enter number is zero\")\n",
    "elif a >0:\n",
    "    print(\"enter number is positive\")\n",
    "else:\n",
    "    print(\"nagative number \")\n",
    "    "
   ]
  },
  {
   "cell_type": "code",
   "execution_count": 16,
   "id": "b1503d9e-3b1c-481c-a5c7-b14e577ef018",
   "metadata": {},
   "outputs": [
    {
     "name": "stdout",
     "output_type": "stream",
     "text": [
      "['nithin', 'ravi', 'dvhfv']\n"
     ]
    }
   ],
   "source": [
    "#List\n",
    "#Lists are used to store multiple items in a single variable.\n",
    "x=['nithin','ravi','dvhfv']\n",
    "print(x)"
   ]
  },
  {
   "cell_type": "code",
   "execution_count": 18,
   "id": "2c71b8b3-7df4-44c5-b305-3b16a9f657cc",
   "metadata": {},
   "outputs": [
    {
     "name": "stdout",
     "output_type": "stream",
     "text": [
      "[1, 2, 2, 3, 4, 4, 5, 56]\n"
     ]
    }
   ],
   "source": [
    "# list item are ordered , changeble , douplecate allow \n",
    "# in list douplecate are allow\n",
    "l=[1,2,2,3,4,4,5,56]\n",
    "print(l)"
   ]
  },
  {
   "cell_type": "code",
   "execution_count": 20,
   "id": "b7bc747e-a8ac-4cc9-90a6-b0509b58a0ed",
   "metadata": {},
   "outputs": [
    {
     "ename": "NameError",
     "evalue": "name 'r' is not defined",
     "output_type": "error",
     "traceback": [
      "\u001b[1;31m---------------------------------------------------------------------------\u001b[0m",
      "\u001b[1;31mNameError\u001b[0m                                 Traceback (most recent call last)",
      "Cell \u001b[1;32mIn[20], line 3\u001b[0m\n\u001b[0;32m      1\u001b[0m \u001b[38;5;66;03m#list length \u001b[39;00m\n\u001b[0;32m      2\u001b[0m \u001b[38;5;66;03m#list length function is use to see howw many values there in a list \u001b[39;00m\n\u001b[1;32m----> 3\u001b[0m l\u001b[38;5;241m=\u001b[39mr\n\u001b[0;32m      4\u001b[0m \u001b[38;5;28mprint\u001b[39m(r)\n",
      "\u001b[1;31mNameError\u001b[0m: name 'r' is not defined"
     ]
    }
   ],
   "source": [
    "#list length \n",
    "#list length function is use to see howw many values there in a list \n",
    "l=r\n",
    "print(r)"
   ]
  },
  {
   "cell_type": "code",
   "execution_count": 22,
   "id": "2de4e418-abca-4998-b532-e31d72237960",
   "metadata": {},
   "outputs": [
    {
     "name": "stdout",
     "output_type": "stream",
     "text": [
      "10\n"
     ]
    }
   ],
   "source": [
    "r=[1,2,3,4,5,67,7,'sdkjf','jafb','uds']\n",
    "print(len(r))"
   ]
  },
  {
   "cell_type": "code",
   "execution_count": 24,
   "id": "65325a33-8a4d-46ce-b099-9ec6e421d50f",
   "metadata": {},
   "outputs": [
    {
     "name": "stdout",
     "output_type": "stream",
     "text": [
      "[1, 2, 2.3, 'dsh', 'kjadb', True]\n"
     ]
    }
   ],
   "source": [
    "# list contaion diffirent data types \n",
    "l=[1,2,2.3,'dsh','kjadb',True]\n",
    "print(l)\n"
   ]
  },
  {
   "cell_type": "code",
   "execution_count": 26,
   "id": "2d8a7dc3-1f7c-4662-a71e-2214f37b90f8",
   "metadata": {},
   "outputs": [
    {
     "name": "stdout",
     "output_type": "stream",
     "text": [
      "<class 'list'>\n"
     ]
    }
   ],
   "source": [
    "l=[1,3,4,45,565876876,]\n",
    "print(type(l))\n"
   ]
  },
  {
   "cell_type": "code",
   "execution_count": 28,
   "id": "31e8761d-1d3b-43ed-a5cf-08d6b3cb5c12",
   "metadata": {},
   "outputs": [
    {
     "name": "stdout",
     "output_type": "stream",
     "text": [
      "[12, 235, 45, 're', 'rshtrth']\n"
     ]
    }
   ],
   "source": [
    "#The list() Constructor\n",
    "#It is also possible to use the list() constructor when creating a new list.\n",
    "x=list((12,235,45,'re','rshtrth'))\n",
    "print(x)"
   ]
  },
  {
   "cell_type": "code",
   "execution_count": 2,
   "id": "dc407e5c-bbfc-4d2e-8e12-66ceeb8eb1b9",
   "metadata": {},
   "outputs": [
    {
     "name": "stdout",
     "output_type": "stream",
     "text": [
      "[3, 4, 45]\n"
     ]
    }
   ],
   "source": [
    "# python acces item \n",
    "# lists is indexed  and you can acces them through index\n",
    "x=[1,2,3,4,45,6576,9]\n",
    "print(x[2:5])\n"
   ]
  },
  {
   "cell_type": "code",
   "execution_count": 4,
   "id": "05e26890-edb7-4ee7-9b64-ffa6e50c0a0c",
   "metadata": {},
   "outputs": [
    {
     "name": "stdout",
     "output_type": "stream",
     "text": [
      "[3, 4, 45, 6576, 9]\n"
     ]
    }
   ],
   "source": [
    "x=[1,2,3,4,45,6576,9]\n",
    "print(x[2:])"
   ]
  },
  {
   "cell_type": "code",
   "execution_count": 6,
   "id": "f83c1b88-bd52-4bec-ab5c-50e6f886a951",
   "metadata": {},
   "outputs": [
    {
     "name": "stdout",
     "output_type": "stream",
     "text": [
      "[1, 2, 3, 4, 45, 6576]\n"
     ]
    }
   ],
   "source": [
    "x=[1,2,3,4,45,6576,9]\n",
    "print(x[ :-1])"
   ]
  },
  {
   "cell_type": "code",
   "execution_count": 8,
   "id": "81ded0ae-6525-4c72-9975-8bd89e60796e",
   "metadata": {},
   "outputs": [
    {
     "name": "stdout",
     "output_type": "stream",
     "text": [
      "9\n"
     ]
    }
   ],
   "source": [
    "x=[1,2,3,4,45,6576,9]\n",
    "print(x[-1])\n"
   ]
  },
  {
   "cell_type": "code",
   "execution_count": 16,
   "id": "dbb24224-027c-4d36-bb28-4873b95f4b22",
   "metadata": {},
   "outputs": [],
   "source": [
    "#check if item is exist \n",
    "x=[1,2,3,4,45,6576,9]\n",
    "if '1' in x:\n",
    "    print(\"yes\")\n"
   ]
  },
  {
   "cell_type": "code",
   "execution_count": 18,
   "id": "e358c9d5-20ca-447d-b9a0-8f8fa674f6e6",
   "metadata": {},
   "outputs": [
    {
     "name": "stdout",
     "output_type": "stream",
     "text": [
      "[1, 'nithin', 'sivva', 'ravi']\n"
     ]
    }
   ],
   "source": [
    "#Change Item Value\n",
    "#To change the value of a specific item, refer to the index number:\n",
    "x=['string','nithin','sivva','ravi']\n",
    "x[0]=1\n",
    "print(x)"
   ]
  },
  {
   "cell_type": "code",
   "execution_count": 20,
   "id": "891003f5-bd98-4cb6-99d6-649ceb2722c7",
   "metadata": {},
   "outputs": [
    {
     "name": "stdout",
     "output_type": "stream",
     "text": [
      "['siva', 'ravi', 'nkjf', 'jvfd', '3uyr3', 11234567890]\n"
     ]
    }
   ],
   "source": [
    "#Python - Add List Items\n",
    "# append is used to addd value to a list  adds value in tne end \n",
    "z=['siva','ravi','nkjf','jvfd','3uyr3']\n",
    "z.append(11234567890)\n",
    "print(z)"
   ]
  },
  {
   "cell_type": "code",
   "execution_count": 22,
   "id": "8770e4a8-192d-4ae8-b93e-7b5be4baadac",
   "metadata": {},
   "outputs": [
    {
     "name": "stdout",
     "output_type": "stream",
     "text": [
      "['nithin', 1, 23, 4, 5, 565, 67, 21243, 5424]\n"
     ]
    }
   ],
   "source": [
    "'''Insert Items\n",
    "To insert a list item at a specified index, use the insert() method.\n",
    "\n",
    "The insert() method inserts an item at the specified index:'''\n",
    "z=[1,23,4,5,565,67,21243,5424]\n",
    "z.insert(0,'nithin')\n",
    "print(z)"
   ]
  },
  {
   "cell_type": "code",
   "execution_count": 24,
   "id": "b086e406-50c5-4646-907a-49515f95f504",
   "metadata": {},
   "outputs": [
    {
     "name": "stdout",
     "output_type": "stream",
     "text": [
      "[1, 23, 4, 5, 565, 67, 21243, 5424, 'nithin']\n"
     ]
    }
   ],
   "source": [
    "z=[1,23,4,5,565,67,21243,5424]\n",
    "z.insert(9,'nithin')\n",
    "print(z)"
   ]
  },
  {
   "cell_type": "code",
   "execution_count": 26,
   "id": "1485281e-aae3-408a-906d-96dcdfab5151",
   "metadata": {},
   "outputs": [
    {
     "name": "stdout",
     "output_type": "stream",
     "text": [
      "[12, 3, 45466, 74, 789, 'uhd', 'ewoh', 'iohewio', 'uewhu']\n"
     ]
    }
   ],
   "source": [
    "#Extend List\n",
    "#To append elements from another list to the current list, use the extend() method.\n",
    "x=[12,3,45466,74,789]\n",
    "y=['uhd','ewoh','iohewio','uewhu']\n",
    "x.extend(y)\n",
    "print(x)\n"
   ]
  },
  {
   "cell_type": "code",
   "execution_count": 30,
   "id": "8ab9778f-9280-440f-8677-9047c2daf8c9",
   "metadata": {},
   "outputs": [
    {
     "name": "stdout",
     "output_type": "stream",
     "text": [
      "[1, 3213, 254654, 21432, 4354, 874389, 'oijer', 'wjebf']\n"
     ]
    }
   ],
   "source": [
    "l=[1,3213,254654,21432,4354,874389]\n",
    "y=('oijer','wjebf')\n",
    "l.extend(y)\n",
    "print(l)\n"
   ]
  },
  {
   "cell_type": "code",
   "execution_count": 34,
   "id": "8e79733e-146b-441d-8ebe-b025ec1ecc70",
   "metadata": {},
   "outputs": [
    {
     "name": "stdout",
     "output_type": "stream",
     "text": [
      "['weijf', 'uwehuifh', 'i3o2yri']\n"
     ]
    }
   ],
   "source": [
    "#  pthon remove list items\n",
    "#Remove Specified Item\n",
    "#The remove() method removes the specified item.\n",
    "#remove() remove  specified item \n",
    "x=['jsdj','weijf','uwehuifh','i3o2yri']\n",
    "x.remove('jsdj')\n",
    "print(x)"
   ]
  },
  {
   "cell_type": "code",
   "execution_count": 36,
   "id": "5b432df0-0cda-47ab-930f-fe53a6911e18",
   "metadata": {},
   "outputs": [
    {
     "name": "stdout",
     "output_type": "stream",
     "text": [
      "[1, 2, 4, 'sjbd', 'whefio', 'oiweh']\n"
     ]
    }
   ],
   "source": [
    "#Remove Specified Index\n",
    "#The pop() method removes the specified index.\n",
    "x=[1,2,3,4,'sjbd','whefio','oiweh']   # pop() method removes the specified index\n",
    "x.pop(2)\n",
    "print(x)\n"
   ]
  },
  {
   "cell_type": "code",
   "execution_count": 38,
   "id": "4b8cddf8-3fb3-482f-ac50-e6db2ec107d6",
   "metadata": {},
   "outputs": [
    {
     "name": "stdout",
     "output_type": "stream",
     "text": [
      "[1, 2, 3, 4, 'sjbd', 'whefio']\n"
     ]
    }
   ],
   "source": [
    "#If you do not specify the index, the pop() method removes the last item.\n",
    "x=[1,2,3,4,'sjbd','whefio','oiweh']  \n",
    "x.pop()\n",
    "print(x)\n",
    "\n",
    "\n"
   ]
  },
  {
   "cell_type": "code",
   "execution_count": 40,
   "id": "885e2996-a4a5-4312-afb8-c41432166576",
   "metadata": {},
   "outputs": [
    {
     "name": "stdout",
     "output_type": "stream",
     "text": [
      "['nithin', 'siva', 'vasu']\n"
     ]
    }
   ],
   "source": [
    "#The del keyword also removes the specified index:\n",
    "x=['jbjkb','nithin','siva','vasu']\n",
    "del x[0]\n",
    "print(x)\n"
   ]
  },
  {
   "cell_type": "code",
   "execution_count": 42,
   "id": "7ce481a3-bdc1-4456-8958-4756157f83f6",
   "metadata": {},
   "outputs": [
    {
     "name": "stdout",
     "output_type": "stream",
     "text": [
      "['jbjkb', 'siva', 'vasu']\n"
     ]
    }
   ],
   "source": [
    "x=['jbjkb','nithin','siva','vasu']\n",
    "x.remove('nithin')\n",
    "print(x)"
   ]
  },
  {
   "cell_type": "code",
   "execution_count": 44,
   "id": "0012c6d3-cca9-4a60-b9a9-5a6c0176230d",
   "metadata": {},
   "outputs": [
    {
     "name": "stdout",
     "output_type": "stream",
     "text": [
      "['jbjkb', 'nithin', 'siva']\n"
     ]
    }
   ],
   "source": [
    "x=['jbjkb','nithin','siva','vasu']\n",
    "x.pop()\n",
    "print(x)"
   ]
  },
  {
   "cell_type": "code",
   "execution_count": 46,
   "id": "69b11ae8-de76-4f7a-9439-60363e386771",
   "metadata": {},
   "outputs": [
    {
     "name": "stdout",
     "output_type": "stream",
     "text": [
      "['jbjkb', 'nithin', 'vasu']\n"
     ]
    }
   ],
   "source": [
    "x=['jbjkb','nithin','siva','vasu']\n",
    "x.pop(2)\n",
    "print(x)"
   ]
  },
  {
   "cell_type": "code",
   "execution_count": 50,
   "id": "9108ce2b-e0c0-4e36-b20a-53fcbfb6bb4f",
   "metadata": {},
   "outputs": [
    {
     "ename": "NameError",
     "evalue": "name 'x' is not defined",
     "output_type": "error",
     "traceback": [
      "\u001b[1;31m---------------------------------------------------------------------------\u001b[0m",
      "\u001b[1;31mNameError\u001b[0m                                 Traceback (most recent call last)",
      "Cell \u001b[1;32mIn[50], line 5\u001b[0m\n\u001b[0;32m      3\u001b[0m x\u001b[38;5;241m=\u001b[39m[\u001b[38;5;124m'\u001b[39m\u001b[38;5;124mjbjkb\u001b[39m\u001b[38;5;124m'\u001b[39m,\u001b[38;5;124m'\u001b[39m\u001b[38;5;124mnithin\u001b[39m\u001b[38;5;124m'\u001b[39m,\u001b[38;5;124m'\u001b[39m\u001b[38;5;124msiva\u001b[39m\u001b[38;5;124m'\u001b[39m,\u001b[38;5;124m'\u001b[39m\u001b[38;5;124mvasu\u001b[39m\u001b[38;5;124m'\u001b[39m]\n\u001b[0;32m      4\u001b[0m \u001b[38;5;28;01mdel\u001b[39;00m x\n\u001b[1;32m----> 5\u001b[0m \u001b[38;5;28mprint\u001b[39m(x)\n",
      "\u001b[1;31mNameError\u001b[0m: name 'x' is not defined"
     ]
    }
   ],
   "source": [
    "#The del keyword can also delete the list completely.\n",
    "#del is also delete the value specific value \n",
    "x=['jbjkb','nithin','siva','vasu']\n",
    "del x\n",
    "print(x)"
   ]
  },
  {
   "cell_type": "code",
   "execution_count": 52,
   "id": "05e8e5af-9929-482b-a75c-78b03a2f93ea",
   "metadata": {},
   "outputs": [
    {
     "ename": "NameError",
     "evalue": "name 'x' is not defined",
     "output_type": "error",
     "traceback": [
      "\u001b[1;31m---------------------------------------------------------------------------\u001b[0m",
      "\u001b[1;31mNameError\u001b[0m                                 Traceback (most recent call last)",
      "Cell \u001b[1;32mIn[52], line 3\u001b[0m\n\u001b[0;32m      1\u001b[0m x\u001b[38;5;241m=\u001b[39m[\u001b[38;5;124m'\u001b[39m\u001b[38;5;124mjbjkb\u001b[39m\u001b[38;5;124m'\u001b[39m,\u001b[38;5;124m'\u001b[39m\u001b[38;5;124mnithin\u001b[39m\u001b[38;5;124m'\u001b[39m,\u001b[38;5;124m'\u001b[39m\u001b[38;5;124msiva\u001b[39m\u001b[38;5;124m'\u001b[39m,\u001b[38;5;124m'\u001b[39m\u001b[38;5;124mvasu\u001b[39m\u001b[38;5;124m'\u001b[39m]\n\u001b[0;32m      2\u001b[0m \u001b[38;5;28;01mdel\u001b[39;00m x\n\u001b[1;32m----> 3\u001b[0m \u001b[38;5;28mprint\u001b[39m(x)\n",
      "\u001b[1;31mNameError\u001b[0m: name 'x' is not defined"
     ]
    }
   ],
   "source": [
    "x=['jbjkb','nithin','siva','vasu']\n",
    "del x\n",
    "print(x)"
   ]
  },
  {
   "cell_type": "code",
   "execution_count": 54,
   "id": "b6fa757d-710b-4fad-89e2-d15bf37603e1",
   "metadata": {},
   "outputs": [
    {
     "ename": "NameError",
     "evalue": "name 'y' is not defined",
     "output_type": "error",
     "traceback": [
      "\u001b[1;31m---------------------------------------------------------------------------\u001b[0m",
      "\u001b[1;31mNameError\u001b[0m                                 Traceback (most recent call last)",
      "Cell \u001b[1;32mIn[54], line 3\u001b[0m\n\u001b[0;32m      1\u001b[0m y\u001b[38;5;241m=\u001b[39m[\u001b[38;5;124m'\u001b[39m\u001b[38;5;124mjbjkb\u001b[39m\u001b[38;5;124m'\u001b[39m,\u001b[38;5;124m'\u001b[39m\u001b[38;5;124mnithin\u001b[39m\u001b[38;5;124m'\u001b[39m,\u001b[38;5;124m'\u001b[39m\u001b[38;5;124msiva\u001b[39m\u001b[38;5;124m'\u001b[39m,\u001b[38;5;124m'\u001b[39m\u001b[38;5;124mvasu\u001b[39m\u001b[38;5;124m'\u001b[39m]\n\u001b[0;32m      2\u001b[0m \u001b[38;5;28;01mdel\u001b[39;00m y\n\u001b[1;32m----> 3\u001b[0m \u001b[38;5;28mprint\u001b[39m(y)\n",
      "\u001b[1;31mNameError\u001b[0m: name 'y' is not defined"
     ]
    }
   ],
   "source": [
    "y=['jbjkb','nithin','siva','vasu']\n",
    "del y\n",
    "print(y)"
   ]
  },
  {
   "cell_type": "code",
   "execution_count": 56,
   "id": "7679e1b0-cfa6-4bfa-b6b9-b376d74f609a",
   "metadata": {},
   "outputs": [
    {
     "name": "stdout",
     "output_type": "stream",
     "text": [
      "[]\n"
     ]
    }
   ],
   "source": [
    "# Clear the List\n",
    "#The clear() method empties the list.\n",
    "\n",
    "#The list still remains, but it has no content.\n",
    "x=['nithin','kjdfn','fheb','wjefb']\n",
    "x.clear()\n",
    "print(x)"
   ]
  },
  {
   "cell_type": "code",
   "execution_count": 68,
   "id": "d8c117c5-c4a2-49f5-b106-1e6752d8dc5f",
   "metadata": {},
   "outputs": [
    {
     "name": "stdout",
     "output_type": "stream",
     "text": [
      "123456789"
     ]
    }
   ],
   "source": [
    "# \n",
    "'''Loop Through a List\n",
    "You can loop through the list items by using a for loop:'''\n",
    "l=[1,2,3,4,5,6,78,9]\n",
    "for i in l:\n",
    "    print(i,end='')\n",
    "    "
   ]
  },
  {
   "cell_type": "code",
   "execution_count": 104,
   "id": "1aed27ab-497e-410f-b302-714f4196eb85",
   "metadata": {},
   "outputs": [
    {
     "ename": "IndentationError",
     "evalue": "unindent does not match any outer indentation level (<string>, line 8)",
     "output_type": "error",
     "traceback": [
      "\u001b[1;36m  File \u001b[1;32m<string>:8\u001b[1;36m\u001b[0m\n\u001b[1;33m    print(j)\u001b[0m\n\u001b[1;37m            ^\u001b[0m\n\u001b[1;31mIndentationError\u001b[0m\u001b[1;31m:\u001b[0m unindent does not match any outer indentation level\n"
     ]
    }
   ],
   "source": [
    "#Loop Through the Index Numbers\n",
    "#You can also loop through the list items by referring to their index number.\n",
    "\n",
    "#Use the range() and len() functions to create a suitable iterable.\n",
    "x=['nithin','tiger','lion','dog','cat']\n",
    "for i in x:\n",
    "    for j in i :\n",
    "  print(j)\n"
   ]
  },
  {
   "cell_type": "code",
   "execution_count": 111,
   "id": "21ff818c-76aa-4d89-a527-9f960a99be4c",
   "metadata": {},
   "outputs": [
    {
     "ename": "TypeError",
     "evalue": "'<' not supported between instances of 'int' and 'list'",
     "output_type": "error",
     "traceback": [
      "\u001b[1;31m---------------------------------------------------------------------------\u001b[0m",
      "\u001b[1;31mTypeError\u001b[0m                                 Traceback (most recent call last)",
      "Cell \u001b[1;32mIn[111], line 9\u001b[0m\n\u001b[0;32m      7\u001b[0m x\u001b[38;5;241m=\u001b[39m[\u001b[38;5;241m1\u001b[39m,\u001b[38;5;241m2\u001b[39m,\u001b[38;5;241m3\u001b[39m,\u001b[38;5;241m4\u001b[39m,\u001b[38;5;241m5\u001b[39m,\u001b[38;5;241m6\u001b[39m,\u001b[38;5;241m6\u001b[39m]\n\u001b[0;32m      8\u001b[0m i\u001b[38;5;241m=\u001b[39m\u001b[38;5;241m0\u001b[39m\n\u001b[1;32m----> 9\u001b[0m \u001b[38;5;28;01mwhile\u001b[39;00m i\u001b[38;5;241m<\u001b[39mx:\n\u001b[0;32m     10\u001b[0m     \u001b[38;5;28mprint\u001b[39m(i)\n",
      "\u001b[1;31mTypeError\u001b[0m: '<' not supported between instances of 'int' and 'list'"
     ]
    }
   ],
   "source": [
    "'''Using a While Loop\n",
    "You can loop through the list items by using a while loop.\n",
    "\n",
    "Use the len() function to determine the length of the list, then start at 0 and loop your way through the list items by referring to their indexes.\n",
    "\n",
    "Remember to increase the index by 1 after each iteratio'''\n"
   ]
  },
  {
   "cell_type": "code",
   "execution_count": 126,
   "id": "0d0d212b-96af-4d32-9847-904ad80e10ac",
   "metadata": {},
   "outputs": [
    {
     "ename": "IndentationError",
     "evalue": "expected an indented block after 'if' statement on line 6 (2975192881.py, line 9)",
     "output_type": "error",
     "traceback": [
      "\u001b[1;36m  Cell \u001b[1;32mIn[126], line 9\u001b[1;36m\u001b[0m\n\u001b[1;33m    print(y)\u001b[0m\n\u001b[1;37m            ^\u001b[0m\n\u001b[1;31mIndentationError\u001b[0m\u001b[1;31m:\u001b[0m expected an indented block after 'if' statement on line 6\n"
     ]
    }
   ],
   "source": [
    "#List Comprehension\n",
    "#List comprehension offers a shorter syntax when you want to create a new list based on the values of an existing list.\n",
    "x=[1,2,3,4,5,67,2,3243,54,51214,34534]\n",
    "y=[1,2,3,4]\n",
    "for i in x:\n",
    "    if i  in y :\n",
    "        \n",
    "\n",
    "print(y)"
   ]
  },
  {
   "cell_type": "code",
   "execution_count": 132,
   "id": "4ecebc49-01cf-4f0b-9849-bc9e1ef61fb7",
   "metadata": {},
   "outputs": [
    {
     "name": "stdout",
     "output_type": "stream",
     "text": [
      "[[12, 3, 4, 56.7, 32, 4], [12, 3, 4, 56.7, 32, 4]]\n"
     ]
    }
   ],
   "source": [
    "x=[12,3,4,56.7,32,4]\n",
    "y=[x for i in x if i==4]\n",
    "print(y)"
   ]
  },
  {
   "cell_type": "code",
   "execution_count": 138,
   "id": "f8f56450-c25a-4287-903b-7c5aa8c4a514",
   "metadata": {},
   "outputs": [
    {
     "name": "stdout",
     "output_type": "stream",
     "text": [
      "['nithin', 'dsn']\n"
     ]
    }
   ],
   "source": [
    "x=['nithin','dsn','eiebif','ejwf']\n",
    "y=[i for i in x if 'n' in i]\n",
    "print(y)"
   ]
  },
  {
   "cell_type": "code",
   "execution_count": 140,
   "id": "5cabab04-4d3c-42db-9a0b-17cfd664b448",
   "metadata": {},
   "outputs": [
    {
     "name": "stdout",
     "output_type": "stream",
     "text": [
      "[3, 4, 5, 6, 7, 23, 45]\n"
     ]
    }
   ],
   "source": [
    "x=[1,2,3,4,5,6,7,23,45,2]\n",
    "y=[i for i in x if i>2]\n",
    "print(y)"
   ]
  },
  {
   "cell_type": "code",
   "execution_count": 144,
   "id": "f0ae88f7-fbd9-4e5d-8e7c-11f87c9fd4c6",
   "metadata": {},
   "outputs": [
    {
     "name": "stdout",
     "output_type": "stream",
     "text": [
      "[12, 23, 45, 67, 89]\n",
      "[12, 23, 45, 67, 89]\n"
     ]
    }
   ],
   "source": [
    "x=[12,23,45,67,89]\n",
    "y=[i for i in x ]\n",
    "print(y)\n",
    "print(x)"
   ]
  },
  {
   "cell_type": "code",
   "execution_count": 146,
   "id": "a1fb43f6-6694-4c55-b298-a22c1302ce54",
   "metadata": {},
   "outputs": [
    {
     "name": "stdout",
     "output_type": "stream",
     "text": [
      "['NITHIN', 'SDKN', 'WJEVN', 'JNVJ']\n"
     ]
    }
   ],
   "source": [
    "r=['nithin','sdkn','wjevn','jnvj']\n",
    "g=[i.upper() for i in r]\n",
    "print(g)"
   ]
  },
  {
   "cell_type": "code",
   "execution_count": 148,
   "id": "3aa6f4bc-4cb8-4ec5-8393-13eb85491d32",
   "metadata": {},
   "outputs": [
    {
     "name": "stdout",
     "output_type": "stream",
     "text": [
      "[6, 9, 23, 76, 34643, 56845, 67876, 6787632876]\n"
     ]
    }
   ],
   "source": [
    "#Sort List Alphanumerically\n",
    "#List objects have a sort() method that will sort the list alphanumerically, ascending, by default:\n",
    "x=[9,76,34643,6,67876,23,6787632876,56845]\n",
    "x.sort()\n",
    "print(x)"
   ]
  },
  {
   "cell_type": "code",
   "execution_count": 150,
   "id": "26b47f47-065c-4a16-b1ed-6d3e446cca20",
   "metadata": {},
   "outputs": [
    {
     "name": "stdout",
     "output_type": "stream",
     "text": [
      "['abc', 'bsdfsd', 'dds', 'nithin']\n"
     ]
    }
   ],
   "source": [
    "y=['nithin','abc','bsdfsd','dds']\n",
    "y.sort()\n",
    "print(y)\n"
   ]
  },
  {
   "cell_type": "code",
   "execution_count": 152,
   "id": "9ea4ed95-0904-4a9e-8c82-d30834786f11",
   "metadata": {},
   "outputs": [
    {
     "name": "stdout",
     "output_type": "stream",
     "text": [
      "[545765, 4532, 98, 4, 3, 2, 1]\n"
     ]
    }
   ],
   "source": [
    "x=[1,2,3,4,98,4532,545765]\n",
    "x.sort(reverse=True)\n",
    "print(x)"
   ]
  },
  {
   "cell_type": "code",
   "execution_count": 158,
   "id": "001b3f9c-6db4-4923-915d-112751c867aa",
   "metadata": {},
   "outputs": [
    {
     "name": "stdout",
     "output_type": "stream",
     "text": [
      "[1, 2, 343, 5, 4, 23423, 25455, 56, 3090]\n"
     ]
    }
   ],
   "source": [
    "#Join Two Lists\n",
    "'''There are several ways to join, or concatenate, two or more lists in Python.\n",
    "\n",
    "One of the easiest ways are by using the + operator.\n",
    "\n",
    "Example'''\n",
    "x=[1,2,343,5,4]\n",
    "y=[23423,25455,56,3090]\n",
    "r=x + y\n",
    "print(r)"
   ]
  },
  {
   "cell_type": "code",
   "execution_count": 170,
   "id": "d3762e97-6ea2-4955-a41f-6e214b168696",
   "metadata": {},
   "outputs": [
    {
     "name": "stdout",
     "output_type": "stream",
     "text": [
      "[1, 2, 343, 5, 4, 23423, 25455, 56, 3090]\n",
      "[1, 2, 4, 5, 56, 343, 3090, 23423, 25455]\n"
     ]
    }
   ],
   "source": [
    "x=[1,2,343,5,4]\n",
    "y=[23423,25455,56,3090]\n",
    "x.extend(y)\n",
    "print(x)\n",
    "x.sort()\n",
    "print(x)"
   ]
  },
  {
   "cell_type": "code",
   "execution_count": null,
   "id": "96d31316-c894-4d99-99cd-c820b801189c",
   "metadata": {},
   "outputs": [],
   "source": [
    "append()\tAdds an element at the end of the list\n",
    "clear()\tRemoves all the elements from the list\n",
    "copy()\tReturns a copy of the list\n",
    "count()\tReturns the number of elements with the specified value\n",
    "extend()\tAdd the elements of a list (or any iterable), to the end of the current list\n",
    "index()\tReturns the index of the first element with the specified value\n",
    "insert()\tAdds an element at the specified position\n",
    "pop()\tRemoves the element at the specified position\n",
    "remove()\tRemoves the item with the specified value\n",
    "reverse()\tReverses the order of the list\n",
    "sort()\tSorts the list\n"
   ]
  },
  {
   "cell_type": "code",
   "execution_count": 172,
   "id": "01d45d32-c35e-488e-b0d6-4936dd005969",
   "metadata": {},
   "outputs": [
    {
     "name": "stdout",
     "output_type": "stream",
     "text": [
      "[1, 2, 3, 4, 5, 6, 23]\n"
     ]
    }
   ],
   "source": [
    "x=[1,2,3,4,5,6]\n",
    "x.append(23)\n",
    "print(x)"
   ]
  },
  {
   "cell_type": "code",
   "execution_count": 174,
   "id": "4ded7697-a227-46a6-9935-6cff75f208de",
   "metadata": {},
   "outputs": [
    {
     "name": "stdout",
     "output_type": "stream",
     "text": [
      "[]\n"
     ]
    }
   ],
   "source": [
    "x=[1,2,3,4,5,6]\n",
    "x.clear()\n",
    "print(x)"
   ]
  },
  {
   "cell_type": "code",
   "execution_count": 178,
   "id": "a6a6c4d1-2857-4fb4-aea9-cab4a37659be",
   "metadata": {},
   "outputs": [
    {
     "name": "stdout",
     "output_type": "stream",
     "text": [
      "[1, 23, 4, 5, 4, 2]\n"
     ]
    }
   ],
   "source": [
    "x=[1,23,4,5,4,2]\n",
    "y=x.copy()\n",
    "print(y)"
   ]
  },
  {
   "cell_type": "code",
   "execution_count": 180,
   "id": "4f7cbb1d-8e9b-43df-9cdb-ce3d3923b12b",
   "metadata": {},
   "outputs": [
    {
     "name": "stdout",
     "output_type": "stream",
     "text": [
      "[1, 'nithin', 23, 4, 5, 4, 2]\n"
     ]
    }
   ],
   "source": [
    "x=[1,23,4,5,4,2]\n",
    "x.insert(1,\"nithin\")\n",
    "print(x)"
   ]
  },
  {
   "cell_type": "code",
   "execution_count": 182,
   "id": "028b27b7-0bbf-40a0-bae8-145082d5b00a",
   "metadata": {},
   "outputs": [
    {
     "name": "stdout",
     "output_type": "stream",
     "text": [
      "[1, 23, 5, 4, 2]\n"
     ]
    }
   ],
   "source": [
    "x=[1,23,4,5,4,2]\n",
    "x.pop(2)\n",
    "print(x)"
   ]
  },
  {
   "cell_type": "code",
   "execution_count": 184,
   "id": "99e667f0-0d57-481f-bd6f-5846b1d52818",
   "metadata": {},
   "outputs": [
    {
     "name": "stdout",
     "output_type": "stream",
     "text": [
      "[2, 4, 5, 4, 23, 1]\n"
     ]
    }
   ],
   "source": [
    "x=[1,23,4,5,4,2]\n",
    "x.reverse()\n",
    "print(x)"
   ]
  },
  {
   "cell_type": "code",
   "execution_count": 186,
   "id": "378260b9-252f-4fef-b739-d5453f3566c2",
   "metadata": {},
   "outputs": [
    {
     "name": "stdout",
     "output_type": "stream",
     "text": [
      "[1, 2, 4, 4, 5, 23]\n"
     ]
    }
   ],
   "source": [
    "x=[1,23,4,5,4,2]\n",
    "x.sort()\n",
    "print(x)"
   ]
  },
  {
   "cell_type": "code",
   "execution_count": 188,
   "id": "5f93fea6-4caf-4966-b3e0-19d3ebf7fdfe",
   "metadata": {},
   "outputs": [
    {
     "name": "stdout",
     "output_type": "stream",
     "text": [
      "[1, 4, 5, 4, 2]\n"
     ]
    }
   ],
   "source": [
    "x=[1,23,4,5,4,2]\n",
    "x.remove(23)\n",
    "print(x)"
   ]
  },
  {
   "cell_type": "code",
   "execution_count": 190,
   "id": "ca9f0a35-cf09-4311-a309-9f9062bdb397",
   "metadata": {},
   "outputs": [
    {
     "name": "stdout",
     "output_type": "stream",
     "text": [
      "[1, 23, 5, 4, 2]\n"
     ]
    }
   ],
   "source": [
    "x=[1,23,4,5,4,2]\n",
    "del x[2]\n",
    "print(x)"
   ]
  },
  {
   "cell_type": "code",
   "execution_count": null,
   "id": "6ed9bc8f-223a-4438-8ec1-6eb322229093",
   "metadata": {},
   "outputs": [],
   "source": []
  }
 ],
 "metadata": {
  "kernelspec": {
   "display_name": "Python [conda env:base] *",
   "language": "python",
   "name": "conda-base-py"
  },
  "language_info": {
   "codemirror_mode": {
    "name": "ipython",
    "version": 3
   },
   "file_extension": ".py",
   "mimetype": "text/x-python",
   "name": "python",
   "nbconvert_exporter": "python",
   "pygments_lexer": "ipython3",
   "version": "3.12.7"
  }
 },
 "nbformat": 4,
 "nbformat_minor": 5
}
