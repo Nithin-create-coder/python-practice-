{
 "cells": [
  {
   "cell_type": "code",
   "execution_count": null,
   "id": "eb44512b-ea32-4b16-af10-df90470bb9dc",
   "metadata": {},
   "outputs": [],
   "source": [
    "'''Tuple\n",
    "Tuples are used to store multiple items in a single variable.\n",
    "\n",
    "Tuple is one of 4 built-in data types in Python used to store collections of data, the other 3 are List, Set, and Dictionary, all with different qualities and usage.\n",
    "\n",
    "A tuple is a collection which is ordered and unchangeable.\n",
    "\n",
    "Tuples are written with round brackets.'''\n"
   ]
  },
  {
   "cell_type": "code",
   "execution_count": 4,
   "id": "a99b3d09-13bc-464d-b0b4-2d92161d8c6f",
   "metadata": {},
   "outputs": [
    {
     "name": "stdout",
     "output_type": "stream",
     "text": [
      "('apple', 'banana', 'cat')\n"
     ]
    }
   ],
   "source": [
    "x=('apple','banana','cat')\n",
    "print(x)\n"
   ]
  },
  {
   "cell_type": "code",
   "execution_count": 6,
   "id": "757c7397-9b56-4296-ae75-9e08322b3956",
   "metadata": {},
   "outputs": [
    {
     "name": "stdout",
     "output_type": "stream",
     "text": [
      "(1, 2, 3, 4, 1, 34, 90)\n"
     ]
    }
   ],
   "source": [
    "'''Tuple Items\n",
    "Tuple items are ordered, unchangeable, and allow duplicate values.\n",
    "\n",
    "Tuple items are indexed, the first item has index [0], the second item has index [1] etc.\n",
    "\n",
    "Ordered\n",
    "When we say that tuples are ordered, it means that the items have a defined order, and that order will not change.\n",
    "\n",
    "Unchangeable\n",
    "Tuples are unchangeable, meaning that we cannot change, add or remove items after the tuple has been created.\n",
    "Allow Duplicates\n",
    "Since tuples are indexed, they can have items with the same value:\n",
    "'''\n",
    "x=(1,2,3,4,1,34,90)\n",
    "print(x)"
   ]
  },
  {
   "cell_type": "code",
   "execution_count": 10,
   "id": "eb69b76d-e017-434f-b8e7-f5784719effa",
   "metadata": {},
   "outputs": [
    {
     "name": "stdout",
     "output_type": "stream",
     "text": [
      "7\n"
     ]
    }
   ],
   "source": [
    "# tuple len \n",
    "#to determine how many are ther ein a tuple use len function\n",
    "x=(1,2,3,4,1,34,90)\n",
    "print(len(x))"
   ]
  },
  {
   "cell_type": "code",
   "execution_count": 14,
   "id": "912143d5-a630-42d7-8f32-9b69536821ce",
   "metadata": {},
   "outputs": [
    {
     "name": "stdout",
     "output_type": "stream",
     "text": [
      "(1,)\n",
      "<class 'tuple'>\n"
     ]
    }
   ],
   "source": [
    "'''Create Tuple With One Item\n",
    "To create a tuple with only one item, you have to add a comma after the item, otherwise Python will not recognize it as a tuple.'''\n",
    "# if you want to create tuple with a one value you need to add comMA after the item \n",
    "z=(1,)\n",
    "print(z)\n",
    "print(type(z))"
   ]
  },
  {
   "cell_type": "code",
   "execution_count": 16,
   "id": "8f9df7dc-9c16-4fff-9b1a-cec22a2d896b",
   "metadata": {},
   "outputs": [
    {
     "name": "stdout",
     "output_type": "stream",
     "text": [
      "(1, 2, 3, 'string', 'cat', 2.3, 4.5)\n"
     ]
    }
   ],
   "source": [
    "'''Tuple Items - Data Types\n",
    "Tuple items can be of any data type:'''\n",
    "x=(1,2,3,'string','cat',2.3,4.5)\n",
    "print(x)"
   ]
  },
  {
   "cell_type": "code",
   "execution_count": 18,
   "id": "9db25b2d-64f3-45c8-aee4-8852da8df344",
   "metadata": {},
   "outputs": [
    {
     "name": "stdout",
     "output_type": "stream",
     "text": [
      "('nithin', 12, 324, 546, 3241)\n"
     ]
    }
   ],
   "source": [
    "'''The tuple() Constructor\n",
    "It is also possible to use the tuple() constructor to make a tuple.'''\n",
    "x=tuple(('nithin',12,324,546,3241))\n",
    "print(x)"
   ]
  },
  {
   "cell_type": "code",
   "execution_count": 20,
   "id": "04f525e6-cb9b-457d-90f4-ce0358ced522",
   "metadata": {},
   "outputs": [
    {
     "name": "stdout",
     "output_type": "stream",
     "text": [
      "2343\n"
     ]
    }
   ],
   "source": [
    "#Access Tuple Items\n",
    "#You can access tuple items by referring to the index number, inside square brackets:\n",
    "x=(12,2343,512343,5341353,4)\n",
    "print(x[1])"
   ]
  },
  {
   "cell_type": "code",
   "execution_count": 22,
   "id": "bc9e69f2-b757-450f-b193-2fdefd3ccf7a",
   "metadata": {},
   "outputs": [
    {
     "name": "stdout",
     "output_type": "stream",
     "text": [
      "(12, 'string', 512343, 5341353, 4, 23)\n"
     ]
    }
   ],
   "source": [
    "#Tuples are unchangeable, meaning that you cannot change, add, or remove items once the tuple is created.\n",
    "\n",
    "#But there are some workarounds.\n",
    "x=(12,2343,512343,5341353,4)\n",
    "y=list(x)\n",
    "y.append(23)\n",
    "y[1]='string'\n",
    "x=tuple(y)\n",
    "print(x)"
   ]
  },
  {
   "cell_type": "code",
   "execution_count": 24,
   "id": "0935301e-caf4-4bec-8701-bae50eedc530",
   "metadata": {},
   "outputs": [
    {
     "name": "stdout",
     "output_type": "stream",
     "text": [
      "1\n",
      "2\n",
      "3\n",
      "45\n",
      "5\n"
     ]
    }
   ],
   "source": [
    "# loop in a tuple \n",
    "x=(1,2,3,45,5)\n",
    "for i in x :\n",
    "    print(i)"
   ]
  },
  {
   "cell_type": "code",
   "execution_count": 26,
   "id": "03913400-1fbd-4ee1-9546-0b0b008e5efd",
   "metadata": {},
   "outputs": [
    {
     "name": "stdout",
     "output_type": "stream",
     "text": [
      "0\n",
      "1\n",
      "2\n",
      "3\n",
      "4\n"
     ]
    }
   ],
   "source": [
    "x=(1,2,3,45,5)\n",
    "for i in range(len(x)):\n",
    "    print(i)"
   ]
  },
  {
   "cell_type": "code",
   "execution_count": 28,
   "id": "1ea8f373-ab8e-445b-993e-70a07dc490a0",
   "metadata": {},
   "outputs": [
    {
     "name": "stdout",
     "output_type": "stream",
     "text": [
      "0\n",
      "1\n",
      "2\n",
      "3\n",
      "4\n"
     ]
    }
   ],
   "source": [
    "x=(1,2,3,45,5)\n",
    "i=0\n",
    "while i<len(x):\n",
    "    print(i)\n",
    "    i=i+1"
   ]
  },
  {
   "cell_type": "code",
   "execution_count": null,
   "id": "e2d86166-63b7-4720-9f34-8011d79f7bb6",
   "metadata": {},
   "outputs": [],
   "source": [
    "Join Two Tuples\n",
    "To join two or more tuples you can use the + operator:"
   ]
  },
  {
   "cell_type": "code",
   "execution_count": 30,
   "id": "37a68d21-4001-4a7d-ba1e-5b7484fa2234",
   "metadata": {},
   "outputs": [
    {
     "name": "stdout",
     "output_type": "stream",
     "text": [
      "(123, 23435, 124325, 346, 32, 439, 534, 25388, 2350)\n"
     ]
    }
   ],
   "source": [
    "x=(123,23435,124325,346,32)\n",
    "y=(439,534,25388,2350)\n",
    "print(x + y)"
   ]
  },
  {
   "cell_type": "code",
   "execution_count": null,
   "id": "17442bde-2d63-4ffc-b8eb-b0ad0629cf43",
   "metadata": {},
   "outputs": [],
   "source": [
    "Tuple Methods\n",
    "Python has two built-in methods that you can use on tuples.\n",
    "\n",
    "Method\tDescription\n",
    "count()\tReturns the number of times a specified value occurs in a tuple\n",
    "index()\tSearches the tuple for a specified value and returns the position of where it was found\n"
   ]
  },
  {
   "cell_type": "code",
   "execution_count": 34,
   "id": "e7277b41-a1b3-4dd2-87d5-78f9bf114239",
   "metadata": {},
   "outputs": [
    {
     "name": "stdout",
     "output_type": "stream",
     "text": [
      "2\n"
     ]
    }
   ],
   "source": [
    "x=(1,2,34,34,1,2,34)\n",
    "y=x.count(1)\n",
    "print(y)"
   ]
  },
  {
   "cell_type": "code",
   "execution_count": null,
   "id": "f082083b-b5ea-43fb-a9b6-c6d04255c43a",
   "metadata": {},
   "outputs": [],
   "source": []
  },
  {
   "cell_type": "code",
   "execution_count": null,
   "id": "e9b682b8-cf92-4e10-8c91-0031ea955438",
   "metadata": {},
   "outputs": [],
   "source": []
  }
 ],
 "metadata": {
  "kernelspec": {
   "display_name": "Python [conda env:base] *",
   "language": "python",
   "name": "conda-base-py"
  },
  "language_info": {
   "codemirror_mode": {
    "name": "ipython",
    "version": 3
   },
   "file_extension": ".py",
   "mimetype": "text/x-python",
   "name": "python",
   "nbconvert_exporter": "python",
   "pygments_lexer": "ipython3",
   "version": "3.12.7"
  }
 },
 "nbformat": 4,
 "nbformat_minor": 5
}
