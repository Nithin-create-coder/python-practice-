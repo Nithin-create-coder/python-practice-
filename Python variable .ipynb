{
 "cells": [
  {
   "cell_type": "code",
   "execution_count": null,
   "id": "e7042166-bf36-4f14-adfd-b3004e033af8",
   "metadata": {},
   "outputs": [],
   "source": [
    "#python 4 th class \n",
    " 1)intro of ai \n",
    " 2intro of ml and cnn, ann\n",
    " 3)variable = value\n",
    "\n",
    " 4) \n"
   ]
  },
  {
   "cell_type": "code",
   "execution_count": null,
   "id": "7258dbdc-8b5f-47ac-a5e1-d34992b23e32",
   "metadata": {},
   "outputs": [],
   "source": [
    "function1()-function with no argument or parameter\n",
    "funtion2(dad,mom)-function with 2 parameter or 2 arguments\n",
    "function3(d,rn,d)\n",
    "house(brike, sand,cent,lah,"
   ]
  },
  {
   "cell_type": "code",
   "execution_count": 1,
   "id": "8502e00f-8499-4e70-ba15-e89234e2894e",
   "metadata": {},
   "outputs": [
    {
     "data": {
      "text/plain": [
       "5"
      ]
     },
     "execution_count": 1,
     "metadata": {},
     "output_type": "execute_result"
    }
   ],
   "source": [
    "var=5\n",
    "var"
   ]
  },
  {
   "cell_type": "raw",
   "id": "6151bb8d-c346-4550-8907-b603537b8259",
   "metadata": {},
   "source": [
    "type(var)"
   ]
  },
  {
   "cell_type": "code",
   "execution_count": 3,
   "id": "cccab602-926e-41f5-aaf1-cec71c1eba72",
   "metadata": {},
   "outputs": [
    {
     "data": {
      "text/plain": [
       "int"
      ]
     },
     "execution_count": 3,
     "metadata": {},
     "output_type": "execute_result"
    }
   ],
   "source": [
    "type(var)"
   ]
  },
  {
   "cell_type": "code",
   "execution_count": null,
   "id": "805993de-0ee7-4521-8613-55b7fe35ba8d",
   "metadata": {},
   "outputs": [],
   "source": [
    "1-variable is cannot start with number and special cerector \n"
   ]
  },
  {
   "cell_type": "code",
   "execution_count": 5,
   "id": "66eb3d69-962c-4191-8bab-c74167f6b92f",
   "metadata": {},
   "outputs": [
    {
     "ename": "SyntaxError",
     "evalue": "invalid syntax (3495209008.py, line 2)",
     "output_type": "error",
     "traceback": [
      "\u001b[1;36m  Cell \u001b[1;32mIn[5], line 2\u001b[1;36m\u001b[0m\n\u001b[1;33m    v@\u001b[0m\n\u001b[1;37m      ^\u001b[0m\n\u001b[1;31mSyntaxError\u001b[0m\u001b[1;31m:\u001b[0m invalid syntax\n"
     ]
    }
   ],
   "source": [
    "v@=45 # special cerector not allow \n",
    "v@"
   ]
  },
  {
   "cell_type": "code",
   "execution_count": 7,
   "id": "5814a1f8-6dc1-487d-9781-795cb68dd9cb",
   "metadata": {},
   "outputs": [
    {
     "ename": "SyntaxError",
     "evalue": "invalid syntax (442402763.py, line 1)",
     "output_type": "error",
     "traceback": [
      "\u001b[1;36m  Cell \u001b[1;32mIn[7], line 1\u001b[1;36m\u001b[0m\n\u001b[1;33m    if =23\u001b[0m\n\u001b[1;37m       ^\u001b[0m\n\u001b[1;31mSyntaxError\u001b[0m\u001b[1;31m:\u001b[0m invalid syntax\n"
     ]
    }
   ],
   "source": [
    "if =23   # reserve word we will get error\n",
    "if"
   ]
  },
  {
   "cell_type": "code",
   "execution_count": 11,
   "id": "f6aa0f00-c640-4e84-ae29-5d2f2cab38a1",
   "metadata": {},
   "outputs": [
    {
     "data": {
      "text/plain": [
       "['False',\n",
       " 'None',\n",
       " 'True',\n",
       " 'and',\n",
       " 'as',\n",
       " 'assert',\n",
       " 'async',\n",
       " 'await',\n",
       " 'break',\n",
       " 'class',\n",
       " 'continue',\n",
       " 'def',\n",
       " 'del',\n",
       " 'elif',\n",
       " 'else',\n",
       " 'except',\n",
       " 'finally',\n",
       " 'for',\n",
       " 'from',\n",
       " 'global',\n",
       " 'if',\n",
       " 'import',\n",
       " 'in',\n",
       " 'is',\n",
       " 'lambda',\n",
       " 'nonlocal',\n",
       " 'not',\n",
       " 'or',\n",
       " 'pass',\n",
       " 'raise',\n",
       " 'return',\n",
       " 'try',\n",
       " 'while',\n",
       " 'with',\n",
       " 'yield']"
      ]
     },
     "execution_count": 11,
     "metadata": {},
     "output_type": "execute_result"
    }
   ],
   "source": [
    "import keyword\n",
    "keyword.kwlist\n"
   ]
  },
  {
   "cell_type": "code",
   "execution_count": 13,
   "id": "a5e86222-7578-4b60-b8de-55614e973f1d",
   "metadata": {},
   "outputs": [
    {
     "data": {
      "text/plain": [
       "['False',\n",
       " 'None',\n",
       " 'True',\n",
       " 'and',\n",
       " 'as',\n",
       " 'assert',\n",
       " 'async',\n",
       " 'await',\n",
       " 'break',\n",
       " 'class',\n",
       " 'continue',\n",
       " 'def',\n",
       " 'del',\n",
       " 'elif',\n",
       " 'else',\n",
       " 'except',\n",
       " 'finally',\n",
       " 'for',\n",
       " 'from',\n",
       " 'global',\n",
       " 'if',\n",
       " 'import',\n",
       " 'in',\n",
       " 'is',\n",
       " 'lambda',\n",
       " 'nonlocal',\n",
       " 'not',\n",
       " 'or',\n",
       " 'pass',\n",
       " 'raise',\n",
       " 'return',\n",
       " 'try',\n",
       " 'while',\n",
       " 'with',\n",
       " 'yield']"
      ]
     },
     "execution_count": 13,
     "metadata": {},
     "output_type": "execute_result"
    }
   ],
   "source": [
    "import keyword\n",
    "keyword.kwlist"
   ]
  },
  {
   "cell_type": "code",
   "execution_count": null,
   "id": "fc537eef-4562-4e8c-a624-d60c538a39be",
   "metadata": {},
   "outputs": [],
   "source": [
    "# we can use Or ,And because (and this And is not same )"
   ]
  },
  {
   "cell_type": "code",
   "execution_count": 17,
   "id": "9b21264f-85bb-4536-a5b6-036679ae7b16",
   "metadata": {},
   "outputs": [
    {
     "data": {
      "text/plain": [
       "90"
      ]
     },
     "execution_count": 17,
     "metadata": {},
     "output_type": "execute_result"
    }
   ],
   "source": [
    "Nit =90\n",
    "Nit"
   ]
  },
  {
   "cell_type": "code",
   "execution_count": null,
   "id": "ba37c4f4-fa0f-47a4-beeb-dc9f9c6a912d",
   "metadata": {},
   "outputs": [],
   "source": [
    "#Rules to define python variable \n",
    "1) case sentence \n",
    "2) cannot start with dight\n",
    "3) special char not allowed\n",
    "4) keywordn or reserve words are not allow\n",
    "5) only _ is Allowed"
   ]
  },
  {
   "cell_type": "code",
   "execution_count": null,
   "id": "c9519dbb-572f-4a83-b4c6-4b57378ee26f",
   "metadata": {},
   "outputs": [],
   "source": [
    "VARIABEL \n",
    "int \n",
    "float\n",
    "string\n",
    "complex\n",
    "bool\n"
   ]
  },
  {
   "cell_type": "code",
   "execution_count": 19,
   "id": "9ffc768e-25f6-40b3-a250-3b7c726b7baf",
   "metadata": {},
   "outputs": [
    {
     "data": {
      "text/plain": [
       "23"
      ]
     },
     "execution_count": 19,
     "metadata": {},
     "output_type": "execute_result"
    }
   ],
   "source": [
    "i=23   # the value with out decimel is called integer\n",
    "i\n"
   ]
  },
  {
   "cell_type": "code",
   "execution_count": 21,
   "id": "7894dfc3-782e-4952-a933-8cdab0a98160",
   "metadata": {},
   "outputs": [
    {
     "data": {
      "text/plain": [
       "23.5"
      ]
     },
     "execution_count": 21,
     "metadata": {},
     "output_type": "execute_result"
    }
   ],
   "source": [
    "i=23.4 # float the alue conation decimal \n",
    "i"
   ]
  },
  {
   "cell_type": "code",
   "execution_count": 23,
   "id": "3b1e71ba-e7d5-4ec9-a308-1b374598fe16",
   "metadata": {},
   "outputs": [
    {
     "data": {
      "text/plain": [
       "float"
      ]
     },
     "execution_count": 23,
     "metadata": {},
     "output_type": "execute_result"
    }
   ],
   "source": [
    "type(i)"
   ]
  },
  {
   "cell_type": "code",
   "execution_count": 41,
   "id": "0c40a44d-0ff4-47e3-822c-a7ae9b5aeb0e",
   "metadata": {},
   "outputs": [
    {
     "ename": "SyntaxError",
     "evalue": "invalid syntax. Perhaps you forgot a comma? (4105814875.py, line 2)",
     "output_type": "error",
     "traceback": [
      "\u001b[1;36m  Cell \u001b[1;32mIn[41], line 2\u001b[1;36m\u001b[0m\n\u001b[1;33m    print(f{\"this is sum of two variable\"{a+b}})\u001b[0m\n\u001b[1;37m            ^\u001b[0m\n\u001b[1;31mSyntaxError\u001b[0m\u001b[1;31m:\u001b[0m invalid syntax. Perhaps you forgot a comma?\n"
     ]
    }
   ],
   "source": [
    "a,b=10,10\n",
    "print(a-b)\n",
    "print(a/b)\n",
    "print(a*b)\n",
    "print(a//b)\n",
    "print(a%b)"
   ]
  },
  {
   "cell_type": "code",
   "execution_count": 29,
   "id": "05cfac3b-873e-43f9-b454-c60bd0bca1ee",
   "metadata": {},
   "outputs": [
    {
     "data": {
      "text/plain": [
       "20"
      ]
     },
     "execution_count": 29,
     "metadata": {},
     "output_type": "execute_result"
    }
   ],
   "source": [
    "a,b=10,10\n",
    "a+b\n"
   ]
  },
  {
   "cell_type": "code",
   "execution_count": null,
   "id": "af62144b-7490-4232-8666-6736b57c510a",
   "metadata": {},
   "outputs": [],
   "source": [
    "to day topics \n",
    "how ai is implemented in real time\n",
    "ai in facebook for brithday reco ai in mars ai healtcare bank "
   ]
  },
  {
   "cell_type": "code",
   "execution_count": null,
   "id": "5dabee8d-ad1b-49b6-b93f-c27aedad78f3",
   "metadata": {},
   "outputs": [],
   "source": [
    "soft kill development \n",
    "comm skill ,email writeing skill how to answer write way to the quation common sense , understand wht opposite guy speadking \n",
    "dot angrey just calm down whenyou got error aptitude plaece apt \n"
   ]
  },
  {
   "cell_type": "code",
   "execution_count": null,
   "id": "687df21b-210e-4a05-b4e6-060102a993eb",
   "metadata": {},
   "outputs": [],
   "source": [
    "typeign skills\n",
    "1hr class session\n",
    "2hr class review and pratice \n",
    "1 hr python\n",
    "1hr sql \n"
   ]
  }
 ],
 "metadata": {
  "kernelspec": {
   "display_name": "Python [conda env:base] *",
   "language": "python",
   "name": "conda-base-py"
  },
  "language_info": {
   "codemirror_mode": {
    "name": "ipython",
    "version": 3
   },
   "file_extension": ".py",
   "mimetype": "text/x-python",
   "name": "python",
   "nbconvert_exporter": "python",
   "pygments_lexer": "ipython3",
   "version": "3.12.7"
  }
 },
 "nbformat": 4,
 "nbformat_minor": 5
}
